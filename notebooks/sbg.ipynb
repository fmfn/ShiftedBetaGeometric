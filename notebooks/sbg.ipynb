{
 "cells": [
  {
   "cell_type": "code",
   "execution_count": 1,
   "metadata": {},
   "outputs": [],
   "source": [
    "import pickle\n",
    "import numpy as np\n",
    "import pandas as pd\n",
    "from datetime import datetime, timedelta, date\n",
    "\n",
    "%matplotlib inline\n",
    "import matplotlib.pyplot as plt\n",
    "import seaborn as sns"
   ]
  },
  {
   "cell_type": "code",
   "execution_count": 2,
   "metadata": {},
   "outputs": [],
   "source": [
    "import sys\n",
    "sys.path.append('../')\n",
    "from axia import report\n",
    "from axia import SBGSurvival\n",
    "\n",
    "from importlib import reload"
   ]
  },
  {
   "cell_type": "markdown",
   "metadata": {},
   "source": [
    "# Load Subscription Data"
   ]
  },
  {
   "cell_type": "code",
   "execution_count": 3,
   "metadata": {},
   "outputs": [],
   "source": [
    "with open(\"./jobber_working_data.pkl\", \"rb\") as f:\n",
    "    data = pickle.load(f)"
   ]
  },
  {
   "cell_type": "code",
   "execution_count": 4,
   "metadata": {},
   "outputs": [
    {
     "data": {
      "text/html": [
       "<div>\n",
       "<style scoped>\n",
       "    .dataframe tbody tr th:only-of-type {\n",
       "        vertical-align: middle;\n",
       "    }\n",
       "\n",
       "    .dataframe tbody tr th {\n",
       "        vertical-align: top;\n",
       "    }\n",
       "\n",
       "    .dataframe thead th {\n",
       "        text-align: right;\n",
       "    }\n",
       "</style>\n",
       "<table border=\"1\" class=\"dataframe\">\n",
       "  <thead>\n",
       "    <tr style=\"text-align: right;\">\n",
       "      <th></th>\n",
       "      <th>start_date</th>\n",
       "      <th>end_date</th>\n",
       "      <th>age</th>\n",
       "      <th>alive</th>\n",
       "      <th>subscription_initial</th>\n",
       "      <th>subscription_last</th>\n",
       "      <th>subscription_current</th>\n",
       "      <th>frequency</th>\n",
       "      <th>country</th>\n",
       "      <th>industry</th>\n",
       "    </tr>\n",
       "    <tr>\n",
       "      <th>account_id</th>\n",
       "      <th></th>\n",
       "      <th></th>\n",
       "      <th></th>\n",
       "      <th></th>\n",
       "      <th></th>\n",
       "      <th></th>\n",
       "      <th></th>\n",
       "      <th></th>\n",
       "      <th></th>\n",
       "      <th></th>\n",
       "    </tr>\n",
       "  </thead>\n",
       "  <tbody>\n",
       "    <tr>\n",
       "      <th>2</th>\n",
       "      <td>2011-04-01</td>\n",
       "      <td>NaT</td>\n",
       "      <td>95</td>\n",
       "      <td>1</td>\n",
       "      <td>65.0</td>\n",
       "      <td>128.0</td>\n",
       "      <td>128.0</td>\n",
       "      <td>monthly</td>\n",
       "      <td>canada</td>\n",
       "      <td>painting</td>\n",
       "    </tr>\n",
       "    <tr>\n",
       "      <th>34</th>\n",
       "      <td>2012-04-01</td>\n",
       "      <td>NaT</td>\n",
       "      <td>83</td>\n",
       "      <td>1</td>\n",
       "      <td>47.0</td>\n",
       "      <td>47.0</td>\n",
       "      <td>47.0</td>\n",
       "      <td>monthly</td>\n",
       "      <td>canada</td>\n",
       "      <td>arborist_/_tree_care</td>\n",
       "    </tr>\n",
       "    <tr>\n",
       "      <th>87</th>\n",
       "      <td>2014-04-01</td>\n",
       "      <td>2015-02-01</td>\n",
       "      <td>10</td>\n",
       "      <td>0</td>\n",
       "      <td>39.0</td>\n",
       "      <td>39.0</td>\n",
       "      <td>0.0</td>\n",
       "      <td>monthly</td>\n",
       "      <td>united_states</td>\n",
       "      <td>lawn_care_&amp;_lawn_maintenance</td>\n",
       "    </tr>\n",
       "    <tr>\n",
       "      <th>109</th>\n",
       "      <td>2011-05-01</td>\n",
       "      <td>NaT</td>\n",
       "      <td>94</td>\n",
       "      <td>1</td>\n",
       "      <td>38.0</td>\n",
       "      <td>47.0</td>\n",
       "      <td>47.0</td>\n",
       "      <td>monthly</td>\n",
       "      <td>canada</td>\n",
       "      <td>painting</td>\n",
       "    </tr>\n",
       "    <tr>\n",
       "      <th>137</th>\n",
       "      <td>2016-03-01</td>\n",
       "      <td>2016-08-01</td>\n",
       "      <td>5</td>\n",
       "      <td>0</td>\n",
       "      <td>68.0</td>\n",
       "      <td>68.0</td>\n",
       "      <td>0.0</td>\n",
       "      <td>monthly</td>\n",
       "      <td>united_states</td>\n",
       "      <td>mechanical_service</td>\n",
       "    </tr>\n",
       "  </tbody>\n",
       "</table>\n",
       "</div>"
      ],
      "text/plain": [
       "           start_date   end_date  age  alive  subscription_initial  \\\n",
       "account_id                                                           \n",
       "2          2011-04-01        NaT   95      1                  65.0   \n",
       "34         2012-04-01        NaT   83      1                  47.0   \n",
       "87         2014-04-01 2015-02-01   10      0                  39.0   \n",
       "109        2011-05-01        NaT   94      1                  38.0   \n",
       "137        2016-03-01 2016-08-01    5      0                  68.0   \n",
       "\n",
       "            subscription_last  subscription_current frequency        country  \\\n",
       "account_id                                                                     \n",
       "2                       128.0                 128.0   monthly         canada   \n",
       "34                       47.0                  47.0   monthly         canada   \n",
       "87                       39.0                   0.0   monthly  united_states   \n",
       "109                      47.0                  47.0   monthly         canada   \n",
       "137                      68.0                   0.0   monthly  united_states   \n",
       "\n",
       "                                industry  \n",
       "account_id                                \n",
       "2                               painting  \n",
       "34                  arborist_/_tree_care  \n",
       "87          lawn_care_&_lawn_maintenance  \n",
       "109                             painting  \n",
       "137                   mechanical_service  "
      ]
     },
     "execution_count": 4,
     "metadata": {},
     "output_type": "execute_result"
    }
   ],
   "source": [
    "data.df.head()"
   ]
  },
  {
   "cell_type": "markdown",
   "metadata": {},
   "source": [
    "# SBG"
   ]
  },
  {
   "cell_type": "code",
   "execution_count": 5,
   "metadata": {},
   "outputs": [],
   "source": [
    "N_MONTHS = 12"
   ]
  },
  {
   "cell_type": "code",
   "execution_count": 6,
   "metadata": {},
   "outputs": [],
   "source": [
    "dtr = data.dtr.join(data.features())\n",
    "dva = data.dva.join(data.features())\n",
    "sample_weight = np.exp(-(((dtr[\"start_date\"].max() - dtr[\"start_date\"]).dt.days / 30 + 1) ** 0.25) + 1)"
   ]
  },
  {
   "cell_type": "code",
   "execution_count": 7,
   "metadata": {},
   "outputs": [],
   "source": [
    "features = [\n",
    "    \"country\",\n",
    "    \"industry\",\n",
    "    \"frequency\",\n",
    "    \"month_one_retention_trend_s3\",\n",
    "    \"month_one_retention_trend_s12\"\n",
    "]\n",
    "\n",
    "sbg = SBGSurvival(\n",
    "    age='age',\n",
    "    alive='alive',\n",
    "    features=features,\n",
    "    gamma=1e-3,\n",
    "    verbose=False\n",
    ")"
   ]
  },
  {
   "cell_type": "code",
   "execution_count": 8,
   "metadata": {},
   "outputs": [
    {
     "name": "stdout",
     "output_type": "stream",
     "text": [
      "CPU times: user 1min 53s, sys: 1.36 s, total: 1min 54s\n",
      "Wall time: 2min 1s\n"
     ]
    }
   ],
   "source": [
    "%%time\n",
    "sbg.fit(\n",
    "    df=dtr,\n",
    "#     sample_weight=sample_weight,\n",
    ")"
   ]
  },
  {
   "cell_type": "code",
   "execution_count": 9,
   "metadata": {},
   "outputs": [],
   "source": [
    "retention = sbg.predict_survival(dva, age=1, n_periods=N_MONTHS + 1)"
   ]
  },
  {
   "cell_type": "code",
   "execution_count": 10,
   "metadata": {},
   "outputs": [],
   "source": [
    "def _expected_value_to_date(df):\n",
    "    d = df.copy()\n",
    "    d[\"expected_payment\"] = d[\"probability\"] * d[\"subscription_initial\"]\n",
    "    d[\"expected_value_to_date\"] = (\n",
    "        d\n",
    "        .groupby(d.index.get_level_values(\"account_id\"))\n",
    "        .agg({\"expected_payment\": \"cumsum\"})\n",
    "    )\n",
    "    return d"
   ]
  },
  {
   "cell_type": "code",
   "execution_count": 11,
   "metadata": {},
   "outputs": [
    {
     "data": {
      "text/html": [
       "<div>\n",
       "<style scoped>\n",
       "    .dataframe tbody tr th:only-of-type {\n",
       "        vertical-align: middle;\n",
       "    }\n",
       "\n",
       "    .dataframe tbody tr th {\n",
       "        vertical-align: top;\n",
       "    }\n",
       "\n",
       "    .dataframe thead th {\n",
       "        text-align: right;\n",
       "    }\n",
       "</style>\n",
       "<table border=\"1\" class=\"dataframe\">\n",
       "  <thead>\n",
       "    <tr style=\"text-align: right;\">\n",
       "      <th></th>\n",
       "      <th>age</th>\n",
       "      <th>probability</th>\n",
       "      <th>subscription_initial</th>\n",
       "      <th>expected_payment</th>\n",
       "      <th>expected_value_to_date</th>\n",
       "    </tr>\n",
       "  </thead>\n",
       "  <tbody>\n",
       "    <tr>\n",
       "      <th>mean</th>\n",
       "      <td>11.0</td>\n",
       "      <td>0.699205</td>\n",
       "      <td>86.790623</td>\n",
       "      <td>59.450148</td>\n",
       "      <td>843.579828</td>\n",
       "    </tr>\n",
       "    <tr>\n",
       "      <th>10%</th>\n",
       "      <td>11.0</td>\n",
       "      <td>0.585407</td>\n",
       "      <td>39.000000</td>\n",
       "      <td>29.537721</td>\n",
       "      <td>407.368942</td>\n",
       "    </tr>\n",
       "    <tr>\n",
       "      <th>50%</th>\n",
       "      <td>11.0</td>\n",
       "      <td>0.685286</td>\n",
       "      <td>76.000000</td>\n",
       "      <td>50.112248</td>\n",
       "      <td>720.923619</td>\n",
       "    </tr>\n",
       "    <tr>\n",
       "      <th>90%</th>\n",
       "      <td>11.0</td>\n",
       "      <td>0.837169</td>\n",
       "      <td>145.000000</td>\n",
       "      <td>98.672691</td>\n",
       "      <td>1384.501443</td>\n",
       "    </tr>\n",
       "  </tbody>\n",
       "</table>\n",
       "</div>"
      ],
      "text/plain": [
       "       age  probability  subscription_initial  expected_payment  \\\n",
       "mean  11.0     0.699205             86.790623         59.450148   \n",
       "10%   11.0     0.585407             39.000000         29.537721   \n",
       "50%   11.0     0.685286             76.000000         50.112248   \n",
       "90%   11.0     0.837169            145.000000         98.672691   \n",
       "\n",
       "      expected_value_to_date  \n",
       "mean              843.579828  \n",
       "10%               407.368942  \n",
       "50%               720.923619  \n",
       "90%              1384.501443  "
      ]
     },
     "execution_count": 11,
     "metadata": {},
     "output_type": "execute_result"
    }
   ],
   "source": [
    "(\n",
    "    retention\n",
    "    .join(data.dva[[\"start_date\", \"subscription_initial\"]])\n",
    "    .pipe(_expected_value_to_date)\n",
    "    .reset_index(\"age\")\n",
    "    .query(\"age == {}\".format(N_MONTHS - 1))\n",
    "    .describe(percentiles=[0.1, 0.5, 0.9])\n",
    "    .loc[[\"mean\", \"10%\", \"50%\", \"90%\"]]\n",
    ")"
   ]
  },
  {
   "cell_type": "code",
   "execution_count": 12,
   "metadata": {},
   "outputs": [],
   "source": [
    "cohort = (\n",
    "    retention\n",
    "    .join(data.dva[[\"start_date\", \"subscription_initial\"]])\n",
    "    .pipe(_expected_value_to_date)\n",
    "    .reset_index(\"age\")\n",
    "    .query(\"age == {}\".format(N_MONTHS - 1))\n",
    "    .groupby(\"start_date\")\n",
    "    .agg({\n",
    "        \"age\": \"count\",\n",
    "        \"probability\": \"mean\",\n",
    "        \"subscription_initial\": \"mean\",\n",
    "        \"expected_value_to_date\": \"mean\",\n",
    "    })\n",
    "    .rename(columns={\n",
    "        \"age\": \"cohort_size\",\n",
    "        \"probability\": \"expected_retention_rate\",\n",
    "        \"subscription_initial\": \"mean_subscription_value_base\",\n",
    "    })\n",
    ")"
   ]
  },
  {
   "cell_type": "code",
   "execution_count": 13,
   "metadata": {},
   "outputs": [
    {
     "data": {
      "text/html": [
       "<div>\n",
       "<style scoped>\n",
       "    .dataframe tbody tr th:only-of-type {\n",
       "        vertical-align: middle;\n",
       "    }\n",
       "\n",
       "    .dataframe tbody tr th {\n",
       "        vertical-align: top;\n",
       "    }\n",
       "\n",
       "    .dataframe thead th {\n",
       "        text-align: right;\n",
       "    }\n",
       "</style>\n",
       "<table border=\"1\" class=\"dataframe\">\n",
       "  <thead>\n",
       "    <tr style=\"text-align: right;\">\n",
       "      <th></th>\n",
       "      <th>cohort_size</th>\n",
       "      <th>expected_retention_rate</th>\n",
       "      <th>mean_subscription_value_base</th>\n",
       "      <th>expected_value_to_date</th>\n",
       "    </tr>\n",
       "    <tr>\n",
       "      <th>start_date</th>\n",
       "      <th></th>\n",
       "      <th></th>\n",
       "      <th></th>\n",
       "      <th></th>\n",
       "    </tr>\n",
       "  </thead>\n",
       "  <tbody>\n",
       "    <tr>\n",
       "      <th>2017-09-01</th>\n",
       "      <td>56</td>\n",
       "      <td>0.696625</td>\n",
       "      <td>104.482143</td>\n",
       "      <td>1016.015648</td>\n",
       "    </tr>\n",
       "    <tr>\n",
       "      <th>2017-10-01</th>\n",
       "      <td>61</td>\n",
       "      <td>0.684994</td>\n",
       "      <td>108.590164</td>\n",
       "      <td>1045.887149</td>\n",
       "    </tr>\n",
       "    <tr>\n",
       "      <th>2017-11-01</th>\n",
       "      <td>69</td>\n",
       "      <td>0.704044</td>\n",
       "      <td>108.927536</td>\n",
       "      <td>1073.847462</td>\n",
       "    </tr>\n",
       "    <tr>\n",
       "      <th>2017-12-01</th>\n",
       "      <td>49</td>\n",
       "      <td>0.681543</td>\n",
       "      <td>135.224490</td>\n",
       "      <td>1314.119988</td>\n",
       "    </tr>\n",
       "    <tr>\n",
       "      <th>2018-01-01</th>\n",
       "      <td>77</td>\n",
       "      <td>0.706623</td>\n",
       "      <td>125.766234</td>\n",
       "      <td>1235.376313</td>\n",
       "    </tr>\n",
       "    <tr>\n",
       "      <th>2018-02-01</th>\n",
       "      <td>72</td>\n",
       "      <td>0.681366</td>\n",
       "      <td>138.222222</td>\n",
       "      <td>1334.516975</td>\n",
       "    </tr>\n",
       "    <tr>\n",
       "      <th>2018-03-01</th>\n",
       "      <td>73</td>\n",
       "      <td>0.678774</td>\n",
       "      <td>137.753425</td>\n",
       "      <td>1323.613426</td>\n",
       "    </tr>\n",
       "  </tbody>\n",
       "</table>\n",
       "</div>"
      ],
      "text/plain": [
       "            cohort_size  expected_retention_rate  \\\n",
       "start_date                                         \n",
       "2017-09-01           56                 0.696625   \n",
       "2017-10-01           61                 0.684994   \n",
       "2017-11-01           69                 0.704044   \n",
       "2017-12-01           49                 0.681543   \n",
       "2018-01-01           77                 0.706623   \n",
       "2018-02-01           72                 0.681366   \n",
       "2018-03-01           73                 0.678774   \n",
       "\n",
       "            mean_subscription_value_base  expected_value_to_date  \n",
       "start_date                                                        \n",
       "2017-09-01                    104.482143             1016.015648  \n",
       "2017-10-01                    108.590164             1045.887149  \n",
       "2017-11-01                    108.927536             1073.847462  \n",
       "2017-12-01                    135.224490             1314.119988  \n",
       "2018-01-01                    125.766234             1235.376313  \n",
       "2018-02-01                    138.222222             1334.516975  \n",
       "2018-03-01                    137.753425             1323.613426  "
      ]
     },
     "execution_count": 13,
     "metadata": {},
     "output_type": "execute_result"
    }
   ],
   "source": [
    "cohort.loc[:\"2018-03-01\"].tail(7)"
   ]
  },
  {
   "cell_type": "code",
   "execution_count": 17,
   "metadata": {},
   "outputs": [
    {
     "data": {
      "image/png": "[encoded data removed]",
      "text/plain": [
       "<Figure size 1440x576 with 2 Axes>"
      ]
     },
     "metadata": {
      "needs_background": "light"
     },
     "output_type": "display_data"
    }
   ],
   "source": [
    "fig, ax = plt.subplots(1, 2, figsize=(20, 8))\n",
    "\n",
    "cohort.loc[\"2014-01-01\":][\"expected_retention_rate\"].plot(ax=ax[0], label=\"retention\")\n",
    "cohort.loc[\"2014-01-01\":][\"expected_value_to_date\"].plot(ax=ax[1], label=\"1yr_ltv\")\n",
    "\n",
    "for axis in ax:\n",
    "    axis.grid(True)\n",
    "    axis.legend()"
   ]
  },
  {
   "cell_type": "code",
   "execution_count": null,
   "metadata": {},
   "outputs": [],
   "source": []
  }
 ],
 "metadata": {
  "kernelspec": {
   "display_name": "Python 3",
   "language": "python",
   "name": "python3"
  },
  "language_info": {
   "codemirror_mode": {
    "name": "ipython",
    "version": 3
   },
   "file_extension": ".py",
   "mimetype": "text/x-python",
   "name": "python",
   "nbconvert_exporter": "python",
   "pygments_lexer": "ipython3",
   "version": "3.7.2"
  }
 },
 "nbformat": 4,
 "nbformat_minor": 2
}
